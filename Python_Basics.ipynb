{
  "nbformat": 4,
  "nbformat_minor": 0,
  "metadata": {
    "colab": {
      "provenance": []
    },
    "kernelspec": {
      "name": "python3",
      "display_name": "Python 3"
    },
    "language_info": {
      "name": "python"
    }
  },
  "cells": [
    {
      "cell_type": "markdown",
      "source": [
        "# Python Basics\n"
      ],
      "metadata": {
        "id": "l-kNNPwMYULZ"
      }
    },
    {
      "cell_type": "markdown",
      "source": [
        "1. What is Python, and why is it popular?\n",
        "- Python is a programing language that used for variety of tasks, including: Data Analysis, Web Development, Sftware Development etc.\n",
        "- Python is popular because:\n",
        "a)  It is very popular among the developers because it is easy to write and understand.\n",
        "b) It is compatible with various programming paradigms, such as object-oriented, procedural and functional programming.\n",
        "c)It is use for front-end and back-end data analysis.\n",
        "d)It is also used for Automation, Image Processing.\n",
        "e)Python has a large and active community of developers and it have large number of libraries.\n",
        "\n",
        "2. What is an interpreter in Python?\n",
        "- An interpreter in Python is a computer program that takes the Python code and converts it into machine readable byte code.Basically it translates the code that you write into instructions that the computer can understand and execute them line by line.\n",
        "\n",
        "3. What are pre-defined keywords in Python?\n",
        "-  Pre-defined keywords in Python are predefined words that python reserves for working in programs that have a specific meaning.\n",
        "These words cannot be used as identifiers (variable names, function names, etc.)\n",
        "Examples of keywords - False, True, None, and, as, assert, async, await, def, del, elif, else, break, class, continue, except, finally, for, from, global, if, import, in, is, lambda, nonlocal, not, or, pass, raise, return, try, while, with and yield.\n",
        "\n",
        "4. Can keywords be used as variable names?\n",
        "- No, keywords can not be used as variable names.\n",
        "\n",
        "5. What is mutability in Python?\n",
        "- In Python, mutability refers to the ability to change the value or state of an object after it has been created.\n",
        "\n",
        "6. Why are lists mutable, but tuples are immutable?\n",
        "- Lists are mutable because we can chnge or edit a list after it have been created but we can not able to change a tupple after its creation.\n",
        "\n",
        "7.  What is the difference between “==” and “is” operators in Python?\n",
        "-  In Python the equality operator ( == ) checks if two variables or values are equal or not. The result of the evaluation is either True or False . The equality operator returns True if the values are equal. If the values aren't equal, the comparison returns False.\n",
        "Example:\n",
        "2==2 returns Tue\n",
        "2==3 returns False\n",
        "\n",
        "- The \"is\" operator in Python is a comparison operator used to check if two objects refer to the same memory location. This means that the is operator checks whether two variables or objects have the same identity, rather than just the same value.\n",
        "Example:\n",
        "If a and b point to the same list, then a is b returns True. However, if a and c have the same values but are different lists, then a is c returns False.\n",
        "\n",
        "8.  What are logical operators in Python?\n",
        "- Logical operators in Python are special keywords that connect and evaluate multiple conditions within a single expression. They are used to perform logical operations on Boolean values, which are either True or False. Example: And, Or, Not operators.\n",
        "\n",
        "9. What is type casting in Python?\n",
        "- Type casting in Python is the process of converting a variable's data type from one type to another. Example: If we want to change \"str\" to \"int\" we can use type casting.\n",
        "\n",
        "10. What is the difference between implicit and explicit type casting?\n",
        "- Implicit type casting:\n",
        "The Python interpreter automatically converts one data type to another without the programmer's involvement.\n",
        "  Explicit type casting:\n",
        "The programmer manually converts one data type to another by writing code that instructs the interpreter to make a specific conversion.  Programmers can use predefined Python functions like float(), str(), and int() for explicit type conversion.\n",
        "\n",
        "11.  What is the purpose of conditional statements in Python?\n",
        "- Conditional statements in Python control the flow of a program by evaluating conditions and executing code based on the outcome. That helps you to code decessions based on some predefined conditions.\n",
        "Example: If, If-else, If-else-elif\n",
        "\n",
        "12. How does the elif statement work?\n",
        "- elif= else + if\n",
        " It can be used in conditional statements to check for multiple conditions. For example: if the first condition is false, it moves on to the next “elif” statement to check if that condition is true.\n",
        "\n",
        "13.  What is the difference between for and while loops?\n",
        "- \"for\" loops are used to iterate over a sequence of elements.\n",
        "\"While\" loops oops are used for executing code until a specified condition is met or becomes False.\n",
        "\n",
        "14. Describe a scenario where a while loop is more suitable than a for loop.\n",
        "\n",
        "- While loop is more suitable than For loop because usualy we use for loop when we know the exactly how many times the loop should run but we use while loop when we don't know the exactly how many times will the loop run and it will breaks automatically based on the conditions."
      ],
      "metadata": {
        "id": "CFlYnUjKY7yR"
      }
    },
    {
      "cell_type": "code",
      "source": [
        "# 1. Write a Python program to print \"Hello, World!\"\n",
        "\n",
        "print(\"Hello, World!\")"
      ],
      "metadata": {
        "id": "_5EdiTGaYmiw",
        "colab": {
          "base_uri": "https://localhost:8080/"
        },
        "outputId": "64c73ba1-5d54-4764-f9ff-a754db02b6dd"
      },
      "execution_count": null,
      "outputs": [
        {
          "output_type": "stream",
          "name": "stdout",
          "text": [
            "Hello, World!\n"
          ]
        }
      ]
    },
    {
      "cell_type": "code",
      "source": [
        "# 2. Write a Python program that displays your name and age.\n",
        "\n",
        "name=(\"Name- Dipanjan Dutta\")\n",
        "age=(\"Age- 24\")\n",
        "print(name)\n",
        "print(age)\n",
        "\n"
      ],
      "metadata": {
        "colab": {
          "base_uri": "https://localhost:8080/"
        },
        "id": "t7WHelQ8jQ-K",
        "outputId": "e0d68ca0-996b-480b-8411-3816306607df"
      },
      "execution_count": null,
      "outputs": [
        {
          "output_type": "stream",
          "name": "stdout",
          "text": [
            "Name- Dipanjan Dutta\n",
            "Age- 24\n"
          ]
        }
      ]
    },
    {
      "cell_type": "code",
      "source": [
        "# 3.Write code to print all the pre-defined keywords in Python using the keyword library.\n",
        "\n",
        "help(\"keywords\")\n",
        "\n",
        "\n"
      ],
      "metadata": {
        "colab": {
          "base_uri": "https://localhost:8080/"
        },
        "id": "018Dnu9ckKlh",
        "outputId": "df6bf832-ae78-47ee-d79e-b293913db5ae"
      },
      "execution_count": null,
      "outputs": [
        {
          "output_type": "stream",
          "name": "stdout",
          "text": [
            "\n",
            "Here is a list of the Python keywords.  Enter any keyword to get more help.\n",
            "\n",
            "False               class               from                or\n",
            "None                continue            global              pass\n",
            "True                def                 if                  raise\n",
            "and                 del                 import              return\n",
            "as                  elif                in                  try\n",
            "assert              else                is                  while\n",
            "async               except              lambda              with\n",
            "await               finally             nonlocal            yield\n",
            "break               for                 not                 \n",
            "\n"
          ]
        }
      ]
    },
    {
      "cell_type": "code",
      "source": [
        "# 4. Write a program that checks if a given word is a Python keyword\n",
        "\n",
        "import keyword\n",
        "keyword.iskeyword(\"if\")"
      ],
      "metadata": {
        "colab": {
          "base_uri": "https://localhost:8080/"
        },
        "id": "pjdELIWoly3G",
        "outputId": "c8539d0b-d096-4678-a0a2-44d20c3a8419"
      },
      "execution_count": null,
      "outputs": [
        {
          "output_type": "execute_result",
          "data": {
            "text/plain": [
              "True"
            ]
          },
          "metadata": {},
          "execution_count": 4
        }
      ]
    },
    {
      "cell_type": "code",
      "source": [
        "import keyword\n",
        "keyword.iskeyword(\"Dipanjan Dutta\")"
      ],
      "metadata": {
        "colab": {
          "base_uri": "https://localhost:8080/"
        },
        "id": "wCGBAwXhtuA4",
        "outputId": "2ae28be6-8c77-4a77-b0df-6fbc5762db47"
      },
      "execution_count": null,
      "outputs": [
        {
          "output_type": "execute_result",
          "data": {
            "text/plain": [
              "False"
            ]
          },
          "metadata": {},
          "execution_count": 5
        }
      ]
    },
    {
      "cell_type": "code",
      "source": [
        "import keyword\n",
        "keyword.iskeyword(\"break\")"
      ],
      "metadata": {
        "colab": {
          "base_uri": "https://localhost:8080/"
        },
        "id": "P43Y3En-tzEg",
        "outputId": "f374264c-413a-496b-9fbe-cc7a44eab778"
      },
      "execution_count": null,
      "outputs": [
        {
          "output_type": "execute_result",
          "data": {
            "text/plain": [
              "True"
            ]
          },
          "metadata": {},
          "execution_count": 6
        }
      ]
    },
    {
      "cell_type": "code",
      "source": [
        "# 5. Create a list and tuple in Python, and demonstrate how attempting to change an element works differently for each.\n",
        "\n",
        "list=[1,2,3,58,\"Dip\"]\n",
        "\n",
        "list[2]\n",
        "\n"
      ],
      "metadata": {
        "colab": {
          "base_uri": "https://localhost:8080/"
        },
        "id": "-J1vwql7t7Lw",
        "outputId": "1738cc2f-b36b-4d28-a38e-e9fb4a79a738"
      },
      "execution_count": null,
      "outputs": [
        {
          "output_type": "execute_result",
          "data": {
            "text/plain": [
              "3"
            ]
          },
          "metadata": {},
          "execution_count": 7
        }
      ]
    },
    {
      "cell_type": "code",
      "source": [
        "list[-1]"
      ],
      "metadata": {
        "colab": {
          "base_uri": "https://localhost:8080/",
          "height": 35
        },
        "id": "txZr_RM6wcF_",
        "outputId": "ebc580f9-43d3-4667-f819-3086c2d42551"
      },
      "execution_count": null,
      "outputs": [
        {
          "output_type": "execute_result",
          "data": {
            "text/plain": [
              "'Dip'"
            ],
            "application/vnd.google.colaboratory.intrinsic+json": {
              "type": "string"
            }
          },
          "metadata": {},
          "execution_count": 8
        }
      ]
    },
    {
      "cell_type": "code",
      "source": [
        "list[4]=\"Ajay\"\n",
        "print(list)"
      ],
      "metadata": {
        "colab": {
          "base_uri": "https://localhost:8080/"
        },
        "id": "Q0qG26rZyWKl",
        "outputId": "3f96fa6d-39b7-4e26-8b88-3cda94665133"
      },
      "execution_count": null,
      "outputs": [
        {
          "output_type": "stream",
          "name": "stdout",
          "text": [
            "[1, 2, 3, 58, 'Ajay']\n"
          ]
        }
      ]
    },
    {
      "cell_type": "code",
      "source": [
        "list[-4]=500\n",
        "print(list)"
      ],
      "metadata": {
        "colab": {
          "base_uri": "https://localhost:8080/"
        },
        "id": "nk5JWP6dymw3",
        "outputId": "84da243f-b24c-432d-da1e-628e94239869"
      },
      "execution_count": null,
      "outputs": [
        {
          "output_type": "stream",
          "name": "stdout",
          "text": [
            "[1, 500, 3, 58, 'Ajay']\n"
          ]
        }
      ]
    },
    {
      "cell_type": "code",
      "source": [
        "a=(1,2,3,58,\"Dip\")\n",
        "a[2]"
      ],
      "metadata": {
        "colab": {
          "base_uri": "https://localhost:8080/"
        },
        "id": "Pqyq93RQzneF",
        "outputId": "7f1bbade-dcd9-4522-c2b1-ce039f8bec13"
      },
      "execution_count": null,
      "outputs": [
        {
          "output_type": "execute_result",
          "data": {
            "text/plain": [
              "3"
            ]
          },
          "metadata": {},
          "execution_count": 11
        }
      ]
    },
    {
      "cell_type": "code",
      "source": [
        "a[-2]"
      ],
      "metadata": {
        "colab": {
          "base_uri": "https://localhost:8080/"
        },
        "id": "Svb_B4yoz4eL",
        "outputId": "112a9c29-daf5-4c9d-8322-e6f3af56392f"
      },
      "execution_count": null,
      "outputs": [
        {
          "output_type": "execute_result",
          "data": {
            "text/plain": [
              "58"
            ]
          },
          "metadata": {},
          "execution_count": 12
        }
      ]
    },
    {
      "cell_type": "code",
      "source": [
        "a[-2]= \"Uganda\"     #We can not make changes in tupple\n",
        "print(tpple)"
      ],
      "metadata": {
        "colab": {
          "base_uri": "https://localhost:8080/",
          "height": 158
        },
        "id": "jWt_BfLM0Bl7",
        "outputId": "136baebe-3f5b-41c2-d32d-65df8f23aad2"
      },
      "execution_count": null,
      "outputs": [
        {
          "output_type": "error",
          "ename": "TypeError",
          "evalue": "'tuple' object does not support item assignment",
          "traceback": [
            "\u001b[0;31m---------------------------------------------------------------------------\u001b[0m",
            "\u001b[0;31mTypeError\u001b[0m                                 Traceback (most recent call last)",
            "\u001b[0;32m<ipython-input-13-cd896ffbb1db>\u001b[0m in \u001b[0;36m<cell line: 1>\u001b[0;34m()\u001b[0m\n\u001b[0;32m----> 1\u001b[0;31m \u001b[0ma\u001b[0m\u001b[0;34m[\u001b[0m\u001b[0;34m-\u001b[0m\u001b[0;36m2\u001b[0m\u001b[0;34m]\u001b[0m\u001b[0;34m=\u001b[0m \u001b[0;34m\"Uganda\"\u001b[0m     \u001b[0;31m#We can not make changes in tupple\u001b[0m\u001b[0;34m\u001b[0m\u001b[0;34m\u001b[0m\u001b[0m\n\u001b[0m\u001b[1;32m      2\u001b[0m \u001b[0mprint\u001b[0m\u001b[0;34m(\u001b[0m\u001b[0mtpple\u001b[0m\u001b[0;34m)\u001b[0m\u001b[0;34m\u001b[0m\u001b[0;34m\u001b[0m\u001b[0m\n",
            "\u001b[0;31mTypeError\u001b[0m: 'tuple' object does not support item assignment"
          ]
        }
      ]
    },
    {
      "cell_type": "code",
      "source": [
        "# 6/7. Write a function to demonstrate the behavior of mutable and immutable arguments\n",
        "\n",
        "# mutable arguments:\n",
        "\n",
        "a=[1,8,7,65,\"Dipanjan\",\"Ajay\"]\n",
        "print(a)"
      ],
      "metadata": {
        "colab": {
          "base_uri": "https://localhost:8080/"
        },
        "id": "zA0_f4t44A4g",
        "outputId": "8084c9dc-e0e0-4029-9507-7685c1bee992"
      },
      "execution_count": null,
      "outputs": [
        {
          "output_type": "stream",
          "name": "stdout",
          "text": [
            "[1, 8, 7, 65, 'Dipanjan', 'Ajay']\n"
          ]
        }
      ]
    },
    {
      "cell_type": "code",
      "source": [
        "a[2]=\"Ram\"\n",
        "print(a)"
      ],
      "metadata": {
        "colab": {
          "base_uri": "https://localhost:8080/"
        },
        "id": "t8beZ4Il439H",
        "outputId": "c7dca06b-cda1-4103-fb07-cb2a4c987aeb"
      },
      "execution_count": null,
      "outputs": [
        {
          "output_type": "stream",
          "name": "stdout",
          "text": [
            "[1, 8, 'Ram', 65, 'Dipanjan', 'Ajay']\n"
          ]
        }
      ]
    },
    {
      "cell_type": "code",
      "source": [
        "a[-1]=\"USA\"\n",
        "print(a)"
      ],
      "metadata": {
        "colab": {
          "base_uri": "https://localhost:8080/"
        },
        "id": "uOWduixvATe0",
        "outputId": "c8e77d32-f065-49da-cccc-b7270d5bb172"
      },
      "execution_count": null,
      "outputs": [
        {
          "output_type": "stream",
          "name": "stdout",
          "text": [
            "[1, 8, 'Ram', 65, 'Dipanjan', 'USA']\n"
          ]
        }
      ]
    },
    {
      "cell_type": "code",
      "source": [
        "# immutable arguments:\n",
        "\n",
        "b=\"IIM Calcutta\"\n",
        "\n",
        "b[6]"
      ],
      "metadata": {
        "colab": {
          "base_uri": "https://localhost:8080/",
          "height": 35
        },
        "id": "9XD1o2dQBEgh",
        "outputId": "78276fa8-d640-484f-c07f-7fc61b1ecc6b"
      },
      "execution_count": null,
      "outputs": [
        {
          "output_type": "execute_result",
          "data": {
            "text/plain": [
              "'l'"
            ],
            "application/vnd.google.colaboratory.intrinsic+json": {
              "type": "string"
            }
          },
          "metadata": {},
          "execution_count": 4
        }
      ]
    },
    {
      "cell_type": "code",
      "source": [
        "b[6]=g #We can not change a part of string."
      ],
      "metadata": {
        "colab": {
          "base_uri": "https://localhost:8080/",
          "height": 141
        },
        "id": "y9_xg4K5ByB5",
        "outputId": "642fccb4-bc66-4ce5-be77-a93c11798d7a"
      },
      "execution_count": null,
      "outputs": [
        {
          "output_type": "error",
          "ename": "NameError",
          "evalue": "name 'g' is not defined",
          "traceback": [
            "\u001b[0;31m---------------------------------------------------------------------------\u001b[0m",
            "\u001b[0;31mNameError\u001b[0m                                 Traceback (most recent call last)",
            "\u001b[0;32m<ipython-input-5-f748925a97ad>\u001b[0m in \u001b[0;36m<cell line: 1>\u001b[0;34m()\u001b[0m\n\u001b[0;32m----> 1\u001b[0;31m \u001b[0mb\u001b[0m\u001b[0;34m[\u001b[0m\u001b[0;36m6\u001b[0m\u001b[0;34m]\u001b[0m\u001b[0;34m=\u001b[0m\u001b[0mg\u001b[0m \u001b[0;31m#We can not change a part of string.\u001b[0m\u001b[0;34m\u001b[0m\u001b[0;34m\u001b[0m\u001b[0m\n\u001b[0m",
            "\u001b[0;31mNameError\u001b[0m: name 'g' is not defined"
          ]
        }
      ]
    },
    {
      "cell_type": "code",
      "source": [
        "# 8. Write a program to demonstrate the use of logical operators\n",
        "\n",
        " # and:\n",
        "\n",
        "print(5>1 and 4<6)\n",
        "print(5>1 and 4<1)\n"
      ],
      "metadata": {
        "colab": {
          "base_uri": "https://localhost:8080/"
        },
        "id": "adXU_LfVCQSy",
        "outputId": "c10c489f-610e-4c3a-d7cf-a02e5be0c37a"
      },
      "execution_count": null,
      "outputs": [
        {
          "output_type": "stream",
          "name": "stdout",
          "text": [
            "True\n",
            "False\n"
          ]
        }
      ]
    },
    {
      "cell_type": "code",
      "source": [
        "print(True and True)\n",
        "print(True and False)\n",
        "print(False and True)\n",
        "print(False and False)\n"
      ],
      "metadata": {
        "colab": {
          "base_uri": "https://localhost:8080/"
        },
        "id": "oZFvYC_TE79G",
        "outputId": "7a842c89-cfa5-4702-cde2-7cc927f33e36"
      },
      "execution_count": null,
      "outputs": [
        {
          "output_type": "stream",
          "name": "stdout",
          "text": [
            "True\n",
            "False\n",
            "False\n",
            "False\n"
          ]
        }
      ]
    },
    {
      "cell_type": "code",
      "source": [
        "# Or:\n",
        "\n",
        "print(5>1 or 4<6)\n",
        "print(5>1 or 4<1)"
      ],
      "metadata": {
        "colab": {
          "base_uri": "https://localhost:8080/"
        },
        "id": "RcD7R4-1GxK8",
        "outputId": "c0bfa98e-6877-49f5-a9e4-be2f4b570006"
      },
      "execution_count": null,
      "outputs": [
        {
          "output_type": "stream",
          "name": "stdout",
          "text": [
            "True\n",
            "True\n"
          ]
        }
      ]
    },
    {
      "cell_type": "code",
      "source": [
        "print(True or True)\n",
        "print(True or False)\n",
        "print(False or True)\n",
        "print(False or False)"
      ],
      "metadata": {
        "colab": {
          "base_uri": "https://localhost:8080/"
        },
        "id": "MPAkhzx-G-cU",
        "outputId": "20e93532-a9ff-4443-d881-fad22f760404"
      },
      "execution_count": null,
      "outputs": [
        {
          "output_type": "stream",
          "name": "stdout",
          "text": [
            "True\n",
            "True\n",
            "True\n",
            "False\n"
          ]
        }
      ]
    },
    {
      "cell_type": "code",
      "source": [
        "# not:\n",
        "\n",
        "a=True\n",
        "b=False\n",
        "print(not a)"
      ],
      "metadata": {
        "colab": {
          "base_uri": "https://localhost:8080/"
        },
        "id": "N7ZR_knRHR1M",
        "outputId": "95c42108-44ce-4dae-b5e4-0373a0b2fb7c"
      },
      "execution_count": null,
      "outputs": [
        {
          "output_type": "stream",
          "name": "stdout",
          "text": [
            "False\n"
          ]
        }
      ]
    },
    {
      "cell_type": "code",
      "source": [
        "a=True\n",
        "b=False\n",
        "print(not b)"
      ],
      "metadata": {
        "colab": {
          "base_uri": "https://localhost:8080/"
        },
        "id": "BAqMx3orHijD",
        "outputId": "e9107d1a-3585-4d3d-f686-c0452f5a5ee4"
      },
      "execution_count": null,
      "outputs": [
        {
          "output_type": "stream",
          "name": "stdout",
          "text": [
            "True\n"
          ]
        }
      ]
    },
    {
      "cell_type": "code",
      "source": [
        "print(not True)\n",
        "print(not False)"
      ],
      "metadata": {
        "colab": {
          "base_uri": "https://localhost:8080/"
        },
        "id": "TNLJUmnQHowG",
        "outputId": "a690ed9e-9779-4195-b539-5cc2ae49269d"
      },
      "execution_count": null,
      "outputs": [
        {
          "output_type": "stream",
          "name": "stdout",
          "text": [
            "False\n",
            "True\n"
          ]
        }
      ]
    },
    {
      "cell_type": "code",
      "source": [
        "# 9.Write a Python program to convert user input from string to integer, float, and boolean types\n",
        "\n",
        "a=input(\"Enter a number: \")"
      ],
      "metadata": {
        "colab": {
          "base_uri": "https://localhost:8080/"
        },
        "id": "VI88WgFhHz0D",
        "outputId": "24e3db3d-8b8c-43dc-8684-892080d40b4f"
      },
      "execution_count": null,
      "outputs": [
        {
          "name": "stdout",
          "output_type": "stream",
          "text": [
            "Enter a number: 148\n"
          ]
        }
      ]
    },
    {
      "cell_type": "code",
      "source": [
        "print (type(a))"
      ],
      "metadata": {
        "colab": {
          "base_uri": "https://localhost:8080/"
        },
        "id": "RRsG1IBSIQjT",
        "outputId": "257663a0-034c-4db4-d284-a359886bd731"
      },
      "execution_count": null,
      "outputs": [
        {
          "output_type": "stream",
          "name": "stdout",
          "text": [
            "<class 'str'>\n"
          ]
        }
      ]
    },
    {
      "cell_type": "code",
      "source": [
        "a  # We can see now it is in str type"
      ],
      "metadata": {
        "colab": {
          "base_uri": "https://localhost:8080/",
          "height": 35
        },
        "id": "yxEFbpKxaWo7",
        "outputId": "9f799a26-504d-4268-bc23-a216337674f0"
      },
      "execution_count": null,
      "outputs": [
        {
          "output_type": "execute_result",
          "data": {
            "text/plain": [
              "'148'"
            ],
            "application/vnd.google.colaboratory.intrinsic+json": {
              "type": "string"
            }
          },
          "metadata": {},
          "execution_count": 16
        }
      ]
    },
    {
      "cell_type": "code",
      "source": [
        "# Now if I want to change it to an integer\n",
        "int(a)"
      ],
      "metadata": {
        "colab": {
          "base_uri": "https://localhost:8080/"
        },
        "id": "IFsRi3YEa87_",
        "outputId": "0a8c9d5a-8302-454f-c487-085a828f4b7d"
      },
      "execution_count": null,
      "outputs": [
        {
          "output_type": "execute_result",
          "data": {
            "text/plain": [
              "148"
            ]
          },
          "metadata": {},
          "execution_count": 17
        }
      ]
    },
    {
      "cell_type": "code",
      "source": [
        "# Now if I want to change it to float value\n",
        "float(a)"
      ],
      "metadata": {
        "colab": {
          "base_uri": "https://localhost:8080/"
        },
        "id": "6DDLDzxMcfNL",
        "outputId": "04e5ddbf-8ab3-4cb4-daef-57619d37ff15"
      },
      "execution_count": null,
      "outputs": [
        {
          "output_type": "execute_result",
          "data": {
            "text/plain": [
              "148.0"
            ]
          },
          "metadata": {},
          "execution_count": 18
        }
      ]
    },
    {
      "cell_type": "code",
      "source": [
        "# Now if I want to change it to boolean\n",
        "bool(a)"
      ],
      "metadata": {
        "colab": {
          "base_uri": "https://localhost:8080/"
        },
        "id": "UeJykh7Zds5r",
        "outputId": "7976334b-dc6e-4085-91da-d2273932ed6a"
      },
      "execution_count": null,
      "outputs": [
        {
          "output_type": "execute_result",
          "data": {
            "text/plain": [
              "True"
            ]
          },
          "metadata": {},
          "execution_count": 19
        }
      ]
    },
    {
      "cell_type": "code",
      "source": [
        "# 10.  Write code to demonstrate type casting with list elements\n",
        "\n",
        "my_list = [10, 20, 30, 4.8, '40', '50', True, False]                  # True= 1\n",
        "int_list = [int(my_list) for my_list in my_list]                      # False= 0\n",
        "print(\"Integer List:\", int_list)\n"
      ],
      "metadata": {
        "colab": {
          "base_uri": "https://localhost:8080/"
        },
        "id": "LOfGxVXHeW2c",
        "outputId": "7f04a6b4-8417-4fb5-f395-eef7e58cb42f"
      },
      "execution_count": null,
      "outputs": [
        {
          "output_type": "stream",
          "name": "stdout",
          "text": [
            "Integer List: [10, 20, 30, 4, 40, 50, 1, 0]\n"
          ]
        }
      ]
    },
    {
      "cell_type": "code",
      "source": [
        "my_list = [10, 20, 30, 4.8, '40', '50', True, False]\n",
        "str_list = [str(my_list) for my_list in my_list]\n",
        "print(\"String list:\", str_list)"
      ],
      "metadata": {
        "colab": {
          "base_uri": "https://localhost:8080/"
        },
        "id": "5pr4icEGhNhG",
        "outputId": "01acf8bb-30c9-45d5-c1a0-b8d3b32f59ad"
      },
      "execution_count": null,
      "outputs": [
        {
          "output_type": "stream",
          "name": "stdout",
          "text": [
            "String list: ['10', '20', '30', '4.8', '40', '50', 'True', 'False']\n"
          ]
        }
      ]
    },
    {
      "cell_type": "code",
      "source": [
        "my_list = [10, 20, 30, 4.8, '40', '50', True, False]\n",
        "float_list=[float(my_list) for my_list in my_list]\n",
        "print(\"Floating list:\",float_list)"
      ],
      "metadata": {
        "colab": {
          "base_uri": "https://localhost:8080/"
        },
        "id": "svQewj4pj8WM",
        "outputId": "352155c7-fe55-40d1-fb09-98a9a7dda57a"
      },
      "execution_count": null,
      "outputs": [
        {
          "output_type": "stream",
          "name": "stdout",
          "text": [
            "Floating list: [10.0, 20.0, 30.0, 4.8, 40.0, 50.0, 1.0, 0.0]\n"
          ]
        }
      ]
    },
    {
      "cell_type": "code",
      "source": [
        "my_list = [10, 20, 30, 4.8, '40', '50', True, False, 0]\n",
        "bool_list=[bool(my_list) for my_list in my_list]\n",
        "print(\"Floating list:\",bool_list)"
      ],
      "metadata": {
        "colab": {
          "base_uri": "https://localhost:8080/"
        },
        "id": "iws9ji4Ymyrk",
        "outputId": "961d8675-2c69-4500-dfad-5f5979aac3ec"
      },
      "execution_count": null,
      "outputs": [
        {
          "output_type": "stream",
          "name": "stdout",
          "text": [
            "Floating list: [True, True, True, True, True, True, True, False, False]\n"
          ]
        }
      ]
    },
    {
      "cell_type": "code",
      "source": [
        "# 11. Write a program that checks if a number is positive, negative, or zero\n",
        "\n",
        "a=int(input(\"write a number: \"))\n",
        "if a>0:\n",
        "    print(\"Positive\")\n",
        "elif a<0:\n",
        "    print(\"Negative\")\n",
        "else:\n",
        "    print(\"Zero\")"
      ],
      "metadata": {
        "colab": {
          "base_uri": "https://localhost:8080/"
        },
        "id": "y9bCLDPXn6xr",
        "outputId": "b6c89359-de47-4c36-c2a6-361d7054cb4b"
      },
      "execution_count": null,
      "outputs": [
        {
          "output_type": "stream",
          "name": "stdout",
          "text": [
            "write a number: 15\n",
            "Positive\n"
          ]
        }
      ]
    },
    {
      "cell_type": "code",
      "source": [
        "a=int(input(\"write a number: \"))\n",
        "if a>0:\n",
        "    print(\"Positive\")\n",
        "elif a<0:\n",
        "    print(\"Negative\")\n",
        "else:\n",
        "    print(\"Zero\")"
      ],
      "metadata": {
        "colab": {
          "base_uri": "https://localhost:8080/"
        },
        "id": "I2webRkLt9DE",
        "outputId": "57968994-7f69-4bea-fd53-2802bdb1c7d0"
      },
      "execution_count": null,
      "outputs": [
        {
          "output_type": "stream",
          "name": "stdout",
          "text": [
            "write a number: -45\n",
            "Negative\n"
          ]
        }
      ]
    },
    {
      "cell_type": "code",
      "source": [
        "a=int(input(\"write a number: \"))\n",
        "if a>0:\n",
        "    print(\"Positive\")\n",
        "elif a<0:\n",
        "    print(\"Negative\")\n",
        "else:\n",
        "    print(\"Zero\")"
      ],
      "metadata": {
        "colab": {
          "base_uri": "https://localhost:8080/"
        },
        "id": "lGejndCYuixb",
        "outputId": "abc843fa-a6e5-4d36-b124-55950ce323a9"
      },
      "execution_count": null,
      "outputs": [
        {
          "output_type": "stream",
          "name": "stdout",
          "text": [
            "write a number: 0\n",
            "Zero\n"
          ]
        }
      ]
    },
    {
      "cell_type": "code",
      "source": [
        "a=float(input(\"write a number: \"))\n",
        "if a>0:\n",
        "    print(\"Positive\")\n",
        "elif a<0:\n",
        "    print(\"Negative\")\n",
        "else:\n",
        "    print(\"Zero\")"
      ],
      "metadata": {
        "colab": {
          "base_uri": "https://localhost:8080/"
        },
        "id": "28yr4Sj6uxqq",
        "outputId": "fbb73ed3-e948-4a79-b876-508059a48a11"
      },
      "execution_count": null,
      "outputs": [
        {
          "output_type": "stream",
          "name": "stdout",
          "text": [
            "write a number: 6.25\n",
            "Positive\n"
          ]
        }
      ]
    },
    {
      "cell_type": "code",
      "source": [
        "a=float(input(\"write a number: \"))\n",
        "if a>0:\n",
        "    print(\"Positive\")\n",
        "elif a<0:\n",
        "    print(\"Negative\")\n",
        "else:\n",
        "    print(\"Zero\")"
      ],
      "metadata": {
        "colab": {
          "base_uri": "https://localhost:8080/"
        },
        "id": "yN0uorMRu-sC",
        "outputId": "6e210f05-af0f-46b9-c813-0f0874b5fdc8"
      },
      "execution_count": null,
      "outputs": [
        {
          "output_type": "stream",
          "name": "stdout",
          "text": [
            "write a number: -5.41\n",
            "Negative\n"
          ]
        }
      ]
    },
    {
      "cell_type": "code",
      "source": [
        "# 12. Write a for loop to print numbers from 1 to 10\n",
        "\n",
        "for i in range(11):\n",
        "  print(i )\n"
      ],
      "metadata": {
        "colab": {
          "base_uri": "https://localhost:8080/"
        },
        "id": "Ts8PXfbdvGU7",
        "outputId": "81ed5088-ff06-4293-f421-557718b96576"
      },
      "execution_count": null,
      "outputs": [
        {
          "output_type": "stream",
          "name": "stdout",
          "text": [
            "0\n",
            "1\n",
            "2\n",
            "3\n",
            "4\n",
            "5\n",
            "6\n",
            "7\n",
            "8\n",
            "9\n",
            "10\n"
          ]
        }
      ]
    },
    {
      "cell_type": "code",
      "source": [
        "# 13. Write a Python program to find the sum of all even numbers between 1 and 50\n",
        "\n",
        "sum=0\n",
        "for i in range(51):\n",
        "  if i%2==0:\n",
        "    print(i)\n",
        "    sum +=i\n",
        "print(sum)"
      ],
      "metadata": {
        "id": "AhhVjmWvv-gU",
        "colab": {
          "base_uri": "https://localhost:8080/"
        },
        "outputId": "58845d66-15ee-4507-f266-81ce86ca7970"
      },
      "execution_count": null,
      "outputs": [
        {
          "output_type": "stream",
          "name": "stdout",
          "text": [
            "0\n",
            "2\n",
            "4\n",
            "6\n",
            "8\n",
            "10\n",
            "12\n",
            "14\n",
            "16\n",
            "18\n",
            "20\n",
            "22\n",
            "24\n",
            "26\n",
            "28\n",
            "30\n",
            "32\n",
            "34\n",
            "36\n",
            "38\n",
            "40\n",
            "42\n",
            "44\n",
            "46\n",
            "48\n",
            "50\n",
            "650\n"
          ]
        }
      ]
    },
    {
      "cell_type": "code",
      "source": [
        "# 15. Write a Python program to calculate the factorial of a number provided by the user using a while loop.\n",
        "\n",
        "a=int(input(\"Enter a number: \"))  # getting input of a number to know the factorial\n",
        "factorial=1                       # A variable named factorial is created and assigned the initial value of 1\n",
        "while a>0:                        # This line starts a while loop that continues as long as the value of a is greater than 0.\n",
        "  factorial=factorial*a           # Inside the loop, the current value of factorial is multiplied by the current value of a, and the result is stored back in factorial.\n",
        "  a=a-1                           # This line decreases the value of a by 1 after factotial*a.\n",
        "print(factorial)"
      ],
      "metadata": {
        "colab": {
          "base_uri": "https://localhost:8080/"
        },
        "id": "9rA1WZtUrMNq",
        "outputId": "a5ff68fe-74b0-4542-b56c-4de4a246d7f9"
      },
      "execution_count": 9,
      "outputs": [
        {
          "output_type": "stream",
          "name": "stdout",
          "text": [
            "Enter a number: 4\n",
            "24\n"
          ]
        }
      ]
    },
    {
      "cell_type": "code",
      "source": [
        "# 14.  Write a program to reverse a string using a while loop.\n",
        "\n",
        "a=input(\"Enter a string: \")  # This line  takes an input of a string\n",
        "reverse=\"\"                   # An empty string is assigned to the variable reverse\n",
        "length=len(a)                # The len() function calculates the length of the string stored in a, and this length is assigned to the variable length\n",
        "while length>0:              # This initiates a while loop that will continue as long as the length is greater than 0.\n",
        "  reverse=reverse+a[length-1]# It accesses the character in the string a at the index length-1.reverse+a[length-1]: It then takes this character and adds it to the beginning of the reverse string\n",
        "  length=length-1            # This line decreases the value of length by 1\n",
        "print(reverse)"
      ],
      "metadata": {
        "colab": {
          "base_uri": "https://localhost:8080/"
        },
        "id": "8nLhhZx3tcp3",
        "outputId": "5db4f216-3b76-421f-e19b-f3b3b53f7cfc"
      },
      "execution_count": 11,
      "outputs": [
        {
          "output_type": "stream",
          "name": "stdout",
          "text": [
            "Enter a string: kolkata\n",
            "ataklok\n"
          ]
        }
      ]
    },
    {
      "cell_type": "code",
      "source": [],
      "metadata": {
        "id": "IJlTQys_zzGj"
      },
      "execution_count": null,
      "outputs": []
    }
  ]
}